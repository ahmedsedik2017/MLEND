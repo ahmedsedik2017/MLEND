{
 "cells": [
  {
   "cell_type": "markdown",
   "metadata": {},
   "source": [
    "# Machine Learning Nanodegree\n",
    "## Capstone Project : Iris Recognition Using CNN\n",
    "### Ahmed Sedik Al-Ads\n",
    "\n",
    "In this project we will implement the proposal that had been reviewed. This project evaluates the accuracy for both of benchmark and our proposed CNN models. \n",
    "\n"
   ]
  },
  {
   "cell_type": "markdown",
   "metadata": {},
   "source": [
    "## Step 1: Import Datasets\n",
    "\n",
    "**In the code cell below, we import a dataset of iris images.  We populate a few variables through the use of the `load_files` function from the scikit-learn library:**\n",
    "\n",
    "- `train_files`, `valid_files`, `test_files` - numpy arrays containing file paths to images\n",
    "- `train_targets`, `valid_targets`, `test_targets` - numpy arrays containing onehot-encoded classification labels \n",
    "- `cat_names` - list of string-valued person's folder names for translating labels"
   ]
  },
  {
   "cell_type": "code",
   "execution_count": 1,
   "metadata": {},
   "outputs": [
    {
     "name": "stderr",
     "output_type": "stream",
     "text": [
      "Using TensorFlow backend.\n"
     ]
    },
    {
     "name": "stdout",
     "output_type": "stream",
     "text": [
      "There are 26 total Iris categories.\n",
      "There are 1300 total Iris images.\n",
      "\n",
      "There are 1040 training Iris images.\n",
      "There are 260 test Iris images.\n"
     ]
    }
   ],
   "source": [
    "from sklearn.datasets import load_files       \n",
    "from keras.utils import np_utils\n",
    "import numpy as np\n",
    "from glob import glob\n",
    "\n",
    "# define function to load train, test, and validation datasets\n",
    "def load_dataset(path):\n",
    "    data = load_files(path)\n",
    "    iris_files = np.array(data['filenames'])\n",
    "    iris_targets = np_utils.to_categorical(np.array(data['target']), 26)\n",
    "    return iris_files, iris_targets\n",
    "\n",
    "# load train, test, and validation datasets\n",
    "train_files, train_targets = load_dataset('casia/train')\n",
    "valid_files, valid_targets = load_dataset('casia/test')\n",
    "\n",
    "test_files, test_targets = load_dataset('casia/test')\n",
    "\n",
    "# load list of dog names\n",
    "cat_names = [item[20:-1] for item in sorted(glob(\"casia/train/*/\"))]\n",
    "\n",
    "# print statistics about the dataset\n",
    "print('There are %d total Iris categories.' % len(cat_names))\n",
    "print('There are %s total Iris images.\\n' % len(np.hstack([train_files, test_files])))\n",
    "print('There are %d training Iris images.' % len(train_files))\n",
    "\n",
    "print('There are %d test Iris images.'% len(test_files))"
   ]
  },
  {
   "cell_type": "markdown",
   "metadata": {},
   "source": [
    "## Step 2: Pre-processing\n",
    "\n",
    "\n",
    "**When using TensorFlow as backend, Keras CNNs require a 4D array (which we'll also refer to as a 4D tensor) as input, with shape**\n",
    "\n",
    "$$\n",
    "(\\text{nb_samples}, \\text{rows}, \\text{columns}, \\text{channels}),\n",
    "$$\n",
    "\n",
    "where `nb_samples` corresponds to the total number of images (or samples), and `rows`, `columns`, and `channels` correspond to the number of rows, columns, and channels for each image, respectively.  \n",
    "\n",
    "The `path_to_tensor` function below takes a string-valued file path to a color image as input and returns a 4D tensor suitable for supplying to a Keras CNN.  The function first loads the image and resizes it to a square image that is $224 \\times 224$ pixels.  Next, the image is converted to an array, which is then resized to a 4D tensor.  In this case, since we are working with color images, each image has three channels.  Likewise, since we are processing a single image (or sample), the returned tensor will always have shape\n",
    "\n",
    "$$\n",
    "(1, 224, 224, 3).\n",
    "$$\n",
    "\n",
    "The `paths_to_tensor` function takes a numpy array of string-valued image paths as input and returns a 4D tensor with shape \n",
    "\n",
    "$$\n",
    "(\\text{nb_samples}, 224, 224, 3).\n",
    "$$\n",
    "\n",
    "Here, `nb_samples` is the number of samples, or number of images, in the supplied array of image paths.  It is best to think of `nb_samples` as the number of 3D tensors (where each 3D tensor corresponds to a different image) in your dataset!"
   ]
  },
  {
   "cell_type": "code",
   "execution_count": 2,
   "metadata": {},
   "outputs": [],
   "source": [
    "from keras.preprocessing import image                  \n",
    "from tqdm import tqdm\n",
    "\n",
    "\n",
    "def path_to_tensor(img_path):\n",
    "    # loads RGB image as PIL.Image.Image type\n",
    "    img = image.load_img(img_path, target_size=(224, 224))\n",
    "    # convert PIL.Image.Image type to 3D tensor with shape (224, 224, 3)\n",
    "    x = image.img_to_array(img)\n",
    "    # convert 3D tensor to 4D tensor with shape (1, 224, 224, 3) and return 4D tensor\n",
    "    return np.expand_dims(x, axis=0)\n",
    "\n",
    "def paths_to_tensor(img_paths):\n",
    "    list_of_tensors = [path_to_tensor(img_path) for img_path in tqdm(img_paths)]\n",
    "    return np.vstack(list_of_tensors)"
   ]
  },
  {
   "cell_type": "markdown",
   "metadata": {},
   "source": [
    "### Pre-process the Data\n",
    "\n",
    "We rescale the images by dividing every pixel in every image by 255."
   ]
  },
  {
   "cell_type": "code",
   "execution_count": 3,
   "metadata": {},
   "outputs": [
    {
     "name": "stderr",
     "output_type": "stream",
     "text": [
      "100%|█████████████████████████████████████████████████████████████████████████████| 1040/1040 [00:04<00:00, 238.92it/s]\n",
      "100%|███████████████████████████████████████████████████████████████████████████████| 260/260 [00:01<00:00, 242.59it/s]\n",
      "100%|███████████████████████████████████████████████████████████████████████████████| 260/260 [00:00<00:00, 263.46it/s]\n"
     ]
    }
   ],
   "source": [
    "from PIL import ImageFile                            \n",
    "ImageFile.LOAD_TRUNCATED_IMAGES = True                 \n",
    "\n",
    "# pre-process the data for Keras\n",
    "train_tensors = paths_to_tensor(train_files).astype('float32')/255\n",
    "valid_tensors = paths_to_tensor(valid_files).astype('float32')/255\n",
    "\n",
    "test_tensors = paths_to_tensor(test_files).astype('float32')/255"
   ]
  },
  {
   "cell_type": "markdown",
   "metadata": {},
   "source": [
    "## Step 3: Benchmark Model\n",
    "\n",
    "This CNN consists of one CNV layer with 32 filters followed by one max pooling layer."
   ]
  },
  {
   "cell_type": "code",
   "execution_count": 4,
   "metadata": {},
   "outputs": [
    {
     "name": "stdout",
     "output_type": "stream",
     "text": [
      "_________________________________________________________________\n",
      "Layer (type)                 Output Shape              Param #   \n",
      "=================================================================\n",
      "batch_normalization_1 (Batch (None, 224, 224, 3)       12        \n",
      "_________________________________________________________________\n",
      "conv2d_1 (Conv2D)            (None, 222, 222, 32)      896       \n",
      "_________________________________________________________________\n",
      "max_pooling2d_1 (MaxPooling2 (None, 111, 111, 32)      0         \n",
      "_________________________________________________________________\n",
      "batch_normalization_2 (Batch (None, 111, 111, 32)      128       \n",
      "_________________________________________________________________\n",
      "global_average_pooling2d_1 ( (None, 32)                0         \n",
      "_________________________________________________________________\n",
      "dense_1 (Dense)              (None, 26)                858       \n",
      "=================================================================\n",
      "Total params: 1,894\n",
      "Trainable params: 1,824\n",
      "Non-trainable params: 70\n",
      "_________________________________________________________________\n"
     ]
    }
   ],
   "source": [
    "from keras.layers import Conv2D, MaxPooling2D, GlobalAveragePooling2D\n",
    "from keras.layers import Dropout, Flatten, Dense, Activation\n",
    "from keras.models import Sequential\n",
    "from keras.layers.normalization import BatchNormalization\n",
    "\n",
    "\n",
    "model0 = Sequential()\n",
    "model0.add(BatchNormalization(input_shape=(224, 224, 3)))\n",
    "model0.add(Conv2D(filters=32, kernel_size=3, kernel_initializer='he_normal', activation='relu'))\n",
    "model0.add(MaxPooling2D(pool_size=2))\n",
    "model0.add(BatchNormalization())\n",
    "\n",
    "\n",
    "model0.add(GlobalAveragePooling2D())\n",
    "\n",
    "model0.add(Dense(26, activation='softmax'))\n",
    "\n",
    "model0.summary()\n"
   ]
  },
  {
   "cell_type": "markdown",
   "metadata": {},
   "source": [
    "### Compile the Model"
   ]
  },
  {
   "cell_type": "code",
   "execution_count": 5,
   "metadata": {},
   "outputs": [],
   "source": [
    "model0.compile(optimizer='rmsprop', loss='categorical_crossentropy', metrics=['accuracy'])"
   ]
  },
  {
   "cell_type": "markdown",
   "metadata": {},
   "source": [
    "### Train the Model\n",
    "\n",
    "* No. of Epoches = 10\n",
    "\n",
    "* We will save the model using checkpointer0"
   ]
  },
  {
   "cell_type": "code",
   "execution_count": 6,
   "metadata": {},
   "outputs": [
    {
     "name": "stdout",
     "output_type": "stream",
     "text": [
      "Train on 1040 samples, validate on 260 samples\n",
      "Epoch 1/10\n",
      "1020/1040 [============================>.] - ETA: 2:45 - loss: 3.2589 - acc: 0.100 - ETA: 2:23 - loss: 3.2558 - acc: 0.050 - ETA: 2:13 - loss: 3.2476 - acc: 0.033 - ETA: 2:07 - loss: 3.2583 - acc: 0.025 - ETA: 2:02 - loss: 3.2522 - acc: 0.030 - ETA: 1:59 - loss: 3.2464 - acc: 0.075 - ETA: 1:55 - loss: 3.2405 - acc: 0.092 - ETA: 1:52 - loss: 3.2363 - acc: 0.093 - ETA: 1:49 - loss: 3.2364 - acc: 0.100 - ETA: 1:46 - loss: 3.2321 - acc: 0.110 - ETA: 1:43 - loss: 3.2312 - acc: 0.104 - ETA: 1:40 - loss: 3.2294 - acc: 0.116 - ETA: 1:38 - loss: 3.2317 - acc: 0.111 - ETA: 1:35 - loss: 3.2285 - acc: 0.114 - ETA: 1:33 - loss: 3.2261 - acc: 0.113 - ETA: 1:30 - loss: 3.2253 - acc: 0.112 - ETA: 1:27 - loss: 3.2230 - acc: 0.114 - ETA: 1:25 - loss: 3.2226 - acc: 0.113 - ETA: 1:22 - loss: 3.2217 - acc: 0.113 - ETA: 1:19 - loss: 3.2203 - acc: 0.110 - ETA: 1:17 - loss: 3.2198 - acc: 0.104 - ETA: 1:14 - loss: 3.2146 - acc: 0.111 - ETA: 1:11 - loss: 3.2148 - acc: 0.110 - ETA: 1:09 - loss: 3.2150 - acc: 0.110 - ETA: 1:07 - loss: 3.2140 - acc: 0.108 - ETA: 1:04 - loss: 3.2128 - acc: 0.111 - ETA: 1:02 - loss: 3.2114 - acc: 0.111 - ETA: 59s - loss: 3.2116 - acc: 0.107 - ETA: 57s - loss: 3.2112 - acc: 0.11 - ETA: 54s - loss: 3.2106 - acc: 0.10 - ETA: 52s - loss: 3.2098 - acc: 0.10 - ETA: 50s - loss: 3.2094 - acc: 0.10 - ETA: 47s - loss: 3.2093 - acc: 0.10 - ETA: 45s - loss: 3.2075 - acc: 0.11 - ETA: 42s - loss: 3.2054 - acc: 0.11 - ETA: 40s - loss: 3.2040 - acc: 0.11 - ETA: 37s - loss: 3.2041 - acc: 0.11 - ETA: 35s - loss: 3.2035 - acc: 0.11 - ETA: 32s - loss: 3.2031 - acc: 0.11 - ETA: 30s - loss: 3.2019 - acc: 0.11 - ETA: 27s - loss: 3.2012 - acc: 0.11 - ETA: 25s - loss: 3.1994 - acc: 0.11 - ETA: 22s - loss: 3.1972 - acc: 0.11 - ETA: 20s - loss: 3.1967 - acc: 0.12 - ETA: 17s - loss: 3.1955 - acc: 0.12 - ETA: 15s - loss: 3.1958 - acc: 0.11 - ETA: 12s - loss: 3.1943 - acc: 0.12 - ETA: 10s - loss: 3.1942 - acc: 0.11 - ETA: 7s - loss: 3.1929 - acc: 0.1224 - ETA: 5s - loss: 3.1920 - acc: 0.123 - ETA: 2s - loss: 3.1915 - acc: 0.1225Epoch 00001: val_loss improved from inf to 3.27491, saving model to saved_models/weights.best.benchmark_Model.hdf5\n",
      "1040/1040 [==============================] - 154s 148ms/step - loss: 3.1920 - acc: 0.1221 - val_loss: 3.2749 - val_acc: 0.0385\n",
      "Epoch 2/10\n",
      "1020/1040 [============================>.] - ETA: 2:47 - loss: 3.1227 - acc: 0.200 - ETA: 2:36 - loss: 3.1493 - acc: 0.200 - ETA: 2:21 - loss: 3.1475 - acc: 0.166 - ETA: 2:13 - loss: 3.1455 - acc: 0.187 - ETA: 2:13 - loss: 3.1462 - acc: 0.160 - ETA: 2:12 - loss: 3.1453 - acc: 0.166 - ETA: 2:06 - loss: 3.1415 - acc: 0.164 - ETA: 2:01 - loss: 3.1350 - acc: 0.181 - ETA: 2:01 - loss: 3.1289 - acc: 0.172 - ETA: 1:58 - loss: 3.1331 - acc: 0.170 - ETA: 1:54 - loss: 3.1331 - acc: 0.172 - ETA: 1:50 - loss: 3.1343 - acc: 0.162 - ETA: 1:50 - loss: 3.1343 - acc: 0.153 - ETA: 1:47 - loss: 3.1315 - acc: 0.160 - ETA: 1:43 - loss: 3.1306 - acc: 0.160 - ETA: 1:41 - loss: 3.1331 - acc: 0.153 - ETA: 1:39 - loss: 3.1341 - acc: 0.155 - ETA: 1:35 - loss: 3.1339 - acc: 0.161 - ETA: 1:32 - loss: 3.1341 - acc: 0.155 - ETA: 1:30 - loss: 3.1363 - acc: 0.152 - ETA: 1:27 - loss: 3.1398 - acc: 0.157 - ETA: 1:24 - loss: 3.1378 - acc: 0.156 - ETA: 1:22 - loss: 3.1385 - acc: 0.154 - ETA: 1:19 - loss: 3.1402 - acc: 0.154 - ETA: 1:16 - loss: 3.1385 - acc: 0.154 - ETA: 1:14 - loss: 3.1370 - acc: 0.153 - ETA: 1:11 - loss: 3.1359 - acc: 0.155 - ETA: 1:08 - loss: 3.1350 - acc: 0.157 - ETA: 1:05 - loss: 3.1328 - acc: 0.163 - ETA: 1:02 - loss: 3.1342 - acc: 0.163 - ETA: 59s - loss: 3.1349 - acc: 0.161 - ETA: 56s - loss: 3.1344 - acc: 0.16 - ETA: 54s - loss: 3.1320 - acc: 0.16 - ETA: 51s - loss: 3.1313 - acc: 0.17 - ETA: 48s - loss: 3.1305 - acc: 0.17 - ETA: 45s - loss: 3.1321 - acc: 0.16 - ETA: 42s - loss: 3.1340 - acc: 0.16 - ETA: 39s - loss: 3.1346 - acc: 0.16 - ETA: 36s - loss: 3.1321 - acc: 0.16 - ETA: 34s - loss: 3.1316 - acc: 0.16 - ETA: 31s - loss: 3.1320 - acc: 0.16 - ETA: 28s - loss: 3.1313 - acc: 0.16 - ETA: 25s - loss: 3.1299 - acc: 0.16 - ETA: 22s - loss: 3.1283 - acc: 0.16 - ETA: 19s - loss: 3.1283 - acc: 0.16 - ETA: 16s - loss: 3.1273 - acc: 0.16 - ETA: 14s - loss: 3.1275 - acc: 0.16 - ETA: 11s - loss: 3.1277 - acc: 0.16 - ETA: 8s - loss: 3.1267 - acc: 0.1653 - ETA: 5s - loss: 3.1273 - acc: 0.163 - ETA: 2s - loss: 3.1274 - acc: 0.1637Epoch 00002: val_loss improved from 3.27491 to 3.26458, saving model to saved_models/weights.best.benchmark_Model.hdf5\n",
      "1040/1040 [==============================] - 169s 162ms/step - loss: 3.1259 - acc: 0.1635 - val_loss: 3.2646 - val_acc: 0.0692\n",
      "Epoch 3/10\n",
      "1020/1040 [============================>.] - ETA: 3:16 - loss: 3.1229 - acc: 0.100 - ETA: 2:37 - loss: 3.1021 - acc: 0.150 - ETA: 2:25 - loss: 3.0980 - acc: 0.183 - ETA: 2:26 - loss: 3.0896 - acc: 0.162 - ETA: 2:22 - loss: 3.0843 - acc: 0.160 - ETA: 2:15 - loss: 3.0935 - acc: 0.150 - ETA: 2:13 - loss: 3.0962 - acc: 0.157 - ETA: 2:11 - loss: 3.0950 - acc: 0.156 - ETA: 2:07 - loss: 3.0978 - acc: 0.155 - ETA: 2:08 - loss: 3.1030 - acc: 0.160 - ETA: 2:02 - loss: 3.0987 - acc: 0.159 - ETA: 1:58 - loss: 3.0975 - acc: 0.162 - ETA: 1:57 - loss: 3.0960 - acc: 0.165 - ETA: 1:53 - loss: 3.0963 - acc: 0.167 - ETA: 1:48 - loss: 3.0938 - acc: 0.163 - ETA: 1:46 - loss: 3.0950 - acc: 0.165 - ETA: 1:43 - loss: 3.0942 - acc: 0.164 - ETA: 1:39 - loss: 3.0903 - acc: 0.166 - ETA: 1:37 - loss: 3.0896 - acc: 0.165 - ETA: 1:35 - loss: 3.0878 - acc: 0.170 - ETA: 1:33 - loss: 3.0870 - acc: 0.169 - ETA: 1:30 - loss: 3.0841 - acc: 0.179 - ETA: 1:29 - loss: 3.0799 - acc: 0.187 - ETA: 1:25 - loss: 3.0803 - acc: 0.183 - ETA: 1:23 - loss: 3.0826 - acc: 0.180 - ETA: 1:21 - loss: 3.0819 - acc: 0.178 - ETA: 1:17 - loss: 3.0788 - acc: 0.183 - ETA: 1:14 - loss: 3.0774 - acc: 0.185 - ETA: 1:11 - loss: 3.0793 - acc: 0.181 - ETA: 1:08 - loss: 3.0806 - acc: 0.181 - ETA: 1:05 - loss: 3.0780 - acc: 0.180 - ETA: 1:02 - loss: 3.0772 - acc: 0.181 - ETA: 58s - loss: 3.0761 - acc: 0.180 - ETA: 55s - loss: 3.0754 - acc: 0.18 - ETA: 52s - loss: 3.0713 - acc: 0.18 - ETA: 49s - loss: 3.0728 - acc: 0.18 - ETA: 46s - loss: 3.0708 - acc: 0.18 - ETA: 43s - loss: 3.0713 - acc: 0.18 - ETA: 39s - loss: 3.0703 - acc: 0.18 - ETA: 36s - loss: 3.0686 - acc: 0.18 - ETA: 33s - loss: 3.0687 - acc: 0.18 - ETA: 30s - loss: 3.0648 - acc: 0.18 - ETA: 27s - loss: 3.0639 - acc: 0.18 - ETA: 24s - loss: 3.0650 - acc: 0.18 - ETA: 21s - loss: 3.0626 - acc: 0.18 - ETA: 18s - loss: 3.0617 - acc: 0.18 - ETA: 15s - loss: 3.0621 - acc: 0.18 - ETA: 12s - loss: 3.0627 - acc: 0.18 - ETA: 9s - loss: 3.0634 - acc: 0.1837 - ETA: 6s - loss: 3.0634 - acc: 0.182 - ETA: 3s - loss: 3.0649 - acc: 0.1804Epoch 00003: val_loss did not improve\n",
      "1040/1040 [==============================] - 180s 173ms/step - loss: 3.0650 - acc: 0.1798 - val_loss: 3.2661 - val_acc: 0.0346\n",
      "Epoch 4/10\n"
     ]
    },
    {
     "name": "stdout",
     "output_type": "stream",
     "text": [
      "1020/1040 [============================>.] - ETA: 3:15 - loss: 2.9005 - acc: 0.250 - ETA: 2:36 - loss: 2.9747 - acc: 0.175 - ETA: 2:23 - loss: 2.9824 - acc: 0.233 - ETA: 2:22 - loss: 2.9829 - acc: 0.200 - ETA: 2:22 - loss: 3.0021 - acc: 0.200 - ETA: 2:14 - loss: 3.0085 - acc: 0.191 - ETA: 2:13 - loss: 3.0120 - acc: 0.185 - ETA: 2:11 - loss: 3.0211 - acc: 0.187 - ETA: 2:06 - loss: 3.0279 - acc: 0.177 - ETA: 2:04 - loss: 3.0372 - acc: 0.170 - ETA: 2:02 - loss: 3.0368 - acc: 0.172 - ETA: 1:57 - loss: 3.0325 - acc: 0.179 - ETA: 1:55 - loss: 3.0317 - acc: 0.184 - ETA: 1:52 - loss: 3.0296 - acc: 0.189 - ETA: 1:48 - loss: 3.0305 - acc: 0.196 - ETA: 1:46 - loss: 3.0308 - acc: 0.190 - ETA: 1:43 - loss: 3.0318 - acc: 0.188 - ETA: 1:39 - loss: 3.0354 - acc: 0.183 - ETA: 1:37 - loss: 3.0392 - acc: 0.176 - ETA: 1:34 - loss: 3.0356 - acc: 0.177 - ETA: 1:31 - loss: 3.0385 - acc: 0.181 - ETA: 1:28 - loss: 3.0383 - acc: 0.186 - ETA: 1:25 - loss: 3.0344 - acc: 0.189 - ETA: 1:22 - loss: 3.0357 - acc: 0.183 - ETA: 1:19 - loss: 3.0301 - acc: 0.188 - ETA: 1:16 - loss: 3.0308 - acc: 0.188 - ETA: 1:13 - loss: 3.0284 - acc: 0.190 - ETA: 1:10 - loss: 3.0282 - acc: 0.189 - ETA: 1:07 - loss: 3.0294 - acc: 0.186 - ETA: 1:04 - loss: 3.0298 - acc: 0.185 - ETA: 1:01 - loss: 3.0278 - acc: 0.185 - ETA: 59s - loss: 3.0273 - acc: 0.187 - ETA: 55s - loss: 3.0271 - acc: 0.18 - ETA: 53s - loss: 3.0249 - acc: 0.18 - ETA: 50s - loss: 3.0219 - acc: 0.19 - ETA: 47s - loss: 3.0196 - acc: 0.19 - ETA: 44s - loss: 3.0189 - acc: 0.19 - ETA: 41s - loss: 3.0170 - acc: 0.18 - ETA: 38s - loss: 3.0136 - acc: 0.18 - ETA: 35s - loss: 3.0143 - acc: 0.19 - ETA: 32s - loss: 3.0120 - acc: 0.18 - ETA: 29s - loss: 3.0101 - acc: 0.19 - ETA: 26s - loss: 3.0095 - acc: 0.18 - ETA: 23s - loss: 3.0104 - acc: 0.19 - ETA: 20s - loss: 3.0108 - acc: 0.19 - ETA: 17s - loss: 3.0111 - acc: 0.19 - ETA: 14s - loss: 3.0110 - acc: 0.18 - ETA: 11s - loss: 3.0121 - acc: 0.18 - ETA: 8s - loss: 3.0097 - acc: 0.1878 - ETA: 5s - loss: 3.0092 - acc: 0.189 - ETA: 2s - loss: 3.0093 - acc: 0.1863Epoch 00004: val_loss did not improve\n",
      "1040/1040 [==============================] - 175s 168ms/step - loss: 3.0096 - acc: 0.1875 - val_loss: 3.2937 - val_acc: 0.0385\n",
      "Epoch 5/10\n",
      "1020/1040 [============================>.] - ETA: 2:02 - loss: 3.0068 - acc: 0.300 - ETA: 2:18 - loss: 3.0081 - acc: 0.250 - ETA: 2:23 - loss: 3.0274 - acc: 0.183 - ETA: 2:14 - loss: 3.0027 - acc: 0.237 - ETA: 2:13 - loss: 3.0083 - acc: 0.190 - ETA: 2:14 - loss: 2.9849 - acc: 0.225 - ETA: 2:08 - loss: 2.9696 - acc: 0.242 - ETA: 2:06 - loss: 2.9675 - acc: 0.243 - ETA: 2:06 - loss: 2.9732 - acc: 0.233 - ETA: 2:01 - loss: 2.9611 - acc: 0.250 - ETA: 1:58 - loss: 2.9573 - acc: 0.240 - ETA: 1:57 - loss: 2.9605 - acc: 0.237 - ETA: 1:53 - loss: 2.9636 - acc: 0.238 - ETA: 1:50 - loss: 2.9671 - acc: 0.232 - ETA: 1:49 - loss: 2.9658 - acc: 0.233 - ETA: 1:44 - loss: 2.9641 - acc: 0.231 - ETA: 1:42 - loss: 2.9634 - acc: 0.235 - ETA: 1:40 - loss: 2.9610 - acc: 0.238 - ETA: 1:36 - loss: 2.9649 - acc: 0.236 - ETA: 1:33 - loss: 2.9704 - acc: 0.230 - ETA: 1:31 - loss: 2.9621 - acc: 0.233 - ETA: 1:27 - loss: 2.9658 - acc: 0.229 - ETA: 1:23 - loss: 2.9633 - acc: 0.230 - ETA: 1:21 - loss: 2.9632 - acc: 0.229 - ETA: 1:18 - loss: 2.9600 - acc: 0.230 - ETA: 1:15 - loss: 2.9649 - acc: 0.226 - ETA: 1:12 - loss: 2.9655 - acc: 0.227 - ETA: 1:10 - loss: 2.9663 - acc: 0.226 - ETA: 1:06 - loss: 2.9676 - acc: 0.225 - ETA: 1:03 - loss: 2.9688 - acc: 0.223 - ETA: 1:01 - loss: 2.9683 - acc: 0.224 - ETA: 58s - loss: 2.9650 - acc: 0.220 - ETA: 55s - loss: 2.9672 - acc: 0.21 - ETA: 52s - loss: 2.9697 - acc: 0.21 - ETA: 49s - loss: 2.9663 - acc: 0.22 - ETA: 46s - loss: 2.9687 - acc: 0.21 - ETA: 43s - loss: 2.9691 - acc: 0.21 - ETA: 41s - loss: 2.9679 - acc: 0.21 - ETA: 38s - loss: 2.9667 - acc: 0.21 - ETA: 35s - loss: 2.9637 - acc: 0.22 - ETA: 32s - loss: 2.9625 - acc: 0.22 - ETA: 29s - loss: 2.9603 - acc: 0.22 - ETA: 26s - loss: 2.9588 - acc: 0.22 - ETA: 23s - loss: 2.9558 - acc: 0.22 - ETA: 20s - loss: 2.9584 - acc: 0.22 - ETA: 17s - loss: 2.9556 - acc: 0.22 - ETA: 14s - loss: 2.9547 - acc: 0.22 - ETA: 11s - loss: 2.9561 - acc: 0.22 - ETA: 8s - loss: 2.9568 - acc: 0.2245 - ETA: 5s - loss: 2.9568 - acc: 0.225 - ETA: 2s - loss: 2.9591 - acc: 0.2245Epoch 00005: val_loss did not improve\n",
      "1040/1040 [==============================] - 175s 168ms/step - loss: 2.9589 - acc: 0.2240 - val_loss: 3.2930 - val_acc: 0.0731\n",
      "Epoch 6/10\n",
      "1020/1040 [============================>.] - ETA: 3:09 - loss: 2.9422 - acc: 0.200 - ETA: 2:34 - loss: 2.9684 - acc: 0.225 - ETA: 2:41 - loss: 3.0043 - acc: 0.200 - ETA: 2:27 - loss: 2.9870 - acc: 0.200 - ETA: 2:24 - loss: 2.9891 - acc: 0.200 - ETA: 2:22 - loss: 2.9909 - acc: 0.175 - ETA: 2:14 - loss: 2.9665 - acc: 0.200 - ETA: 2:12 - loss: 2.9609 - acc: 0.206 - ETA: 2:10 - loss: 2.9650 - acc: 0.211 - ETA: 2:05 - loss: 2.9580 - acc: 0.205 - ETA: 2:00 - loss: 2.9647 - acc: 0.195 - ETA: 1:57 - loss: 2.9532 - acc: 0.212 - ETA: 1:55 - loss: 2.9588 - acc: 0.215 - ETA: 1:51 - loss: 2.9550 - acc: 0.203 - ETA: 1:48 - loss: 2.9512 - acc: 0.203 - ETA: 1:46 - loss: 2.9502 - acc: 0.200 - ETA: 1:42 - loss: 2.9497 - acc: 0.197 - ETA: 1:39 - loss: 2.9433 - acc: 0.205 - ETA: 1:37 - loss: 2.9334 - acc: 0.215 - ETA: 1:33 - loss: 2.9349 - acc: 0.212 - ETA: 1:31 - loss: 2.9304 - acc: 0.214 - ETA: 1:28 - loss: 2.9267 - acc: 0.220 - ETA: 1:24 - loss: 2.9283 - acc: 0.221 - ETA: 1:22 - loss: 2.9269 - acc: 0.222 - ETA: 1:19 - loss: 2.9266 - acc: 0.222 - ETA: 1:16 - loss: 2.9309 - acc: 0.219 - ETA: 1:13 - loss: 2.9279 - acc: 0.224 - ETA: 1:10 - loss: 2.9276 - acc: 0.225 - ETA: 1:07 - loss: 2.9273 - acc: 0.222 - ETA: 1:05 - loss: 2.9270 - acc: 0.223 - ETA: 1:01 - loss: 2.9274 - acc: 0.225 - ETA: 58s - loss: 2.9213 - acc: 0.232 - ETA: 55s - loss: 2.9261 - acc: 0.22 - ETA: 53s - loss: 2.9242 - acc: 0.23 - ETA: 49s - loss: 2.9223 - acc: 0.23 - ETA: 47s - loss: 2.9258 - acc: 0.23 - ETA: 44s - loss: 2.9291 - acc: 0.22 - ETA: 42s - loss: 2.9292 - acc: 0.22 - ETA: 39s - loss: 2.9328 - acc: 0.22 - ETA: 36s - loss: 2.9267 - acc: 0.22 - ETA: 33s - loss: 2.9298 - acc: 0.22 - ETA: 30s - loss: 2.9290 - acc: 0.22 - ETA: 27s - loss: 2.9297 - acc: 0.22 - ETA: 24s - loss: 2.9281 - acc: 0.22 - ETA: 21s - loss: 2.9250 - acc: 0.22 - ETA: 18s - loss: 2.9263 - acc: 0.22 - ETA: 15s - loss: 2.9257 - acc: 0.22 - ETA: 12s - loss: 2.9251 - acc: 0.22 - ETA: 9s - loss: 2.9232 - acc: 0.2235 - ETA: 6s - loss: 2.9216 - acc: 0.224 - ETA: 3s - loss: 2.9216 - acc: 0.2265Epoch 00006: val_loss did not improve\n",
      "1040/1040 [==============================] - 180s 173ms/step - loss: 2.9191 - acc: 0.2279 - val_loss: 3.2828 - val_acc: 0.0731\n",
      "Epoch 7/10\n"
     ]
    },
    {
     "name": "stdout",
     "output_type": "stream",
     "text": [
      "1020/1040 [============================>.] - ETA: 3:14 - loss: 2.8103 - acc: 0.350 - ETA: 2:38 - loss: 2.8266 - acc: 0.375 - ETA: 2:23 - loss: 2.8039 - acc: 0.383 - ETA: 2:23 - loss: 2.8488 - acc: 0.325 - ETA: 2:22 - loss: 2.8516 - acc: 0.320 - ETA: 2:17 - loss: 2.8662 - acc: 0.275 - ETA: 2:20 - loss: 2.8612 - acc: 0.271 - ETA: 2:17 - loss: 2.8678 - acc: 0.268 - ETA: 2:14 - loss: 2.8795 - acc: 0.250 - ETA: 2:09 - loss: 2.8749 - acc: 0.255 - ETA: 2:08 - loss: 2.8628 - acc: 0.250 - ETA: 2:03 - loss: 2.8556 - acc: 0.258 - ETA: 1:58 - loss: 2.8689 - acc: 0.242 - ETA: 1:57 - loss: 2.8698 - acc: 0.239 - ETA: 1:52 - loss: 2.8773 - acc: 0.233 - ETA: 1:51 - loss: 2.8723 - acc: 0.243 - ETA: 1:46 - loss: 2.8671 - acc: 0.244 - ETA: 1:43 - loss: 2.8672 - acc: 0.238 - ETA: 1:40 - loss: 2.8654 - acc: 0.239 - ETA: 1:36 - loss: 2.8729 - acc: 0.237 - ETA: 1:33 - loss: 2.8731 - acc: 0.238 - ETA: 1:30 - loss: 2.8784 - acc: 0.243 - ETA: 1:27 - loss: 2.8732 - acc: 0.252 - ETA: 1:24 - loss: 2.8726 - acc: 0.254 - ETA: 1:21 - loss: 2.8740 - acc: 0.254 - ETA: 1:18 - loss: 2.8699 - acc: 0.261 - ETA: 1:15 - loss: 2.8711 - acc: 0.261 - ETA: 1:12 - loss: 2.8650 - acc: 0.267 - ETA: 1:09 - loss: 2.8657 - acc: 0.265 - ETA: 1:06 - loss: 2.8681 - acc: 0.260 - ETA: 1:03 - loss: 2.8765 - acc: 0.254 - ETA: 1:00 - loss: 2.8823 - acc: 0.251 - ETA: 57s - loss: 2.8821 - acc: 0.251 - ETA: 54s - loss: 2.8854 - acc: 0.24 - ETA: 51s - loss: 2.8844 - acc: 0.24 - ETA: 48s - loss: 2.8848 - acc: 0.24 - ETA: 45s - loss: 2.8873 - acc: 0.24 - ETA: 42s - loss: 2.8844 - acc: 0.24 - ETA: 39s - loss: 2.8825 - acc: 0.25 - ETA: 36s - loss: 2.8821 - acc: 0.25 - ETA: 33s - loss: 2.8842 - acc: 0.24 - ETA: 30s - loss: 2.8834 - acc: 0.24 - ETA: 27s - loss: 2.8801 - acc: 0.25 - ETA: 24s - loss: 2.8786 - acc: 0.25 - ETA: 21s - loss: 2.8775 - acc: 0.25 - ETA: 18s - loss: 2.8745 - acc: 0.25 - ETA: 15s - loss: 2.8724 - acc: 0.25 - ETA: 12s - loss: 2.8707 - acc: 0.25 - ETA: 9s - loss: 2.8699 - acc: 0.2571 - ETA: 6s - loss: 2.8708 - acc: 0.255 - ETA: 3s - loss: 2.8675 - acc: 0.2559Epoch 00007: val_loss improved from 3.26458 to 3.20457, saving model to saved_models/weights.best.benchmark_Model.hdf5\n",
      "1040/1040 [==============================] - 178s 171ms/step - loss: 2.8705 - acc: 0.2538 - val_loss: 3.2046 - val_acc: 0.0731\n",
      "Epoch 8/10\n",
      "1020/1040 [============================>.] - ETA: 3:11 - loss: 2.7736 - acc: 0.350 - ETA: 2:34 - loss: 2.8137 - acc: 0.275 - ETA: 2:24 - loss: 2.8013 - acc: 0.283 - ETA: 2:30 - loss: 2.8268 - acc: 0.262 - ETA: 2:20 - loss: 2.8092 - acc: 0.290 - ETA: 2:22 - loss: 2.8395 - acc: 0.275 - ETA: 2:15 - loss: 2.8349 - acc: 0.242 - ETA: 2:15 - loss: 2.8212 - acc: 0.256 - ETA: 2:10 - loss: 2.8260 - acc: 0.255 - ETA: 2:04 - loss: 2.8115 - acc: 0.265 - ETA: 2:04 - loss: 2.8132 - acc: 0.268 - ETA: 2:02 - loss: 2.8135 - acc: 0.275 - ETA: 1:57 - loss: 2.8128 - acc: 0.273 - ETA: 1:54 - loss: 2.8188 - acc: 0.264 - ETA: 1:52 - loss: 2.8241 - acc: 0.256 - ETA: 1:47 - loss: 2.8292 - acc: 0.246 - ETA: 1:44 - loss: 2.8327 - acc: 0.250 - ETA: 1:42 - loss: 2.8451 - acc: 0.238 - ETA: 1:38 - loss: 2.8445 - acc: 0.242 - ETA: 1:35 - loss: 2.8396 - acc: 0.245 - ETA: 1:33 - loss: 2.8408 - acc: 0.242 - ETA: 1:29 - loss: 2.8438 - acc: 0.245 - ETA: 1:26 - loss: 2.8482 - acc: 0.241 - ETA: 1:23 - loss: 2.8534 - acc: 0.237 - ETA: 1:20 - loss: 2.8498 - acc: 0.242 - ETA: 1:17 - loss: 2.8478 - acc: 0.244 - ETA: 1:14 - loss: 2.8507 - acc: 0.240 - ETA: 1:11 - loss: 2.8478 - acc: 0.244 - ETA: 1:08 - loss: 2.8459 - acc: 0.248 - ETA: 1:05 - loss: 2.8454 - acc: 0.251 - ETA: 1:02 - loss: 2.8404 - acc: 0.254 - ETA: 59s - loss: 2.8424 - acc: 0.254 - ETA: 56s - loss: 2.8377 - acc: 0.25 - ETA: 53s - loss: 2.8393 - acc: 0.25 - ETA: 50s - loss: 2.8358 - acc: 0.25 - ETA: 47s - loss: 2.8377 - acc: 0.24 - ETA: 44s - loss: 2.8331 - acc: 0.25 - ETA: 41s - loss: 2.8328 - acc: 0.25 - ETA: 38s - loss: 2.8305 - acc: 0.25 - ETA: 35s - loss: 2.8339 - acc: 0.25 - ETA: 32s - loss: 2.8350 - acc: 0.25 - ETA: 29s - loss: 2.8319 - acc: 0.25 - ETA: 26s - loss: 2.8306 - acc: 0.26 - ETA: 23s - loss: 2.8330 - acc: 0.25 - ETA: 20s - loss: 2.8340 - acc: 0.25 - ETA: 17s - loss: 2.8327 - acc: 0.25 - ETA: 14s - loss: 2.8317 - acc: 0.25 - ETA: 11s - loss: 2.8316 - acc: 0.25 - ETA: 8s - loss: 2.8305 - acc: 0.2541 - ETA: 5s - loss: 2.8294 - acc: 0.256 - ETA: 2s - loss: 2.8284 - acc: 0.2569Epoch 00008: val_loss improved from 3.20457 to 3.10371, saving model to saved_models/weights.best.benchmark_Model.hdf5\n",
      "1040/1040 [==============================] - 177s 170ms/step - loss: 2.8268 - acc: 0.2577 - val_loss: 3.1037 - val_acc: 0.1154\n",
      "Epoch 9/10\n",
      "1020/1040 [============================>.] - ETA: 2:03 - loss: 2.8355 - acc: 0.300 - ETA: 2:22 - loss: 2.7624 - acc: 0.350 - ETA: 2:22 - loss: 2.7523 - acc: 0.350 - ETA: 2:13 - loss: 2.7831 - acc: 0.312 - ETA: 2:13 - loss: 2.7805 - acc: 0.280 - ETA: 2:14 - loss: 2.7527 - acc: 0.291 - ETA: 2:08 - loss: 2.7740 - acc: 0.271 - ETA: 2:06 - loss: 2.7727 - acc: 0.275 - ETA: 2:05 - loss: 2.7770 - acc: 0.266 - ETA: 2:01 - loss: 2.7896 - acc: 0.260 - ETA: 2:02 - loss: 2.7842 - acc: 0.259 - ETA: 1:57 - loss: 2.7979 - acc: 0.254 - ETA: 1:53 - loss: 2.8065 - acc: 0.253 - ETA: 1:51 - loss: 2.8154 - acc: 0.246 - ETA: 1:50 - loss: 2.8149 - acc: 0.246 - ETA: 1:49 - loss: 2.8133 - acc: 0.243 - ETA: 1:46 - loss: 2.8044 - acc: 0.255 - ETA: 1:41 - loss: 2.8019 - acc: 0.258 - ETA: 1:39 - loss: 2.8036 - acc: 0.260 - ETA: 1:36 - loss: 2.7999 - acc: 0.260 - ETA: 1:32 - loss: 2.7878 - acc: 0.269 - ETA: 1:29 - loss: 2.7821 - acc: 0.270 - ETA: 1:27 - loss: 2.7839 - acc: 0.271 - ETA: 1:23 - loss: 2.7844 - acc: 0.270 - ETA: 1:20 - loss: 2.7861 - acc: 0.266 - ETA: 1:18 - loss: 2.7904 - acc: 0.261 - ETA: 1:15 - loss: 2.7894 - acc: 0.261 - ETA: 1:12 - loss: 2.7864 - acc: 0.260 - ETA: 1:09 - loss: 2.7908 - acc: 0.262 - ETA: 1:06 - loss: 2.7880 - acc: 0.260 - ETA: 1:03 - loss: 2.7888 - acc: 0.261 - ETA: 1:00 - loss: 2.7928 - acc: 0.254 - ETA: 57s - loss: 2.7927 - acc: 0.253 - ETA: 54s - loss: 2.7929 - acc: 0.25 - ETA: 51s - loss: 2.8024 - acc: 0.24 - ETA: 48s - loss: 2.8036 - acc: 0.24 - ETA: 44s - loss: 2.8032 - acc: 0.24 - ETA: 42s - loss: 2.8005 - acc: 0.25 - ETA: 39s - loss: 2.7996 - acc: 0.25 - ETA: 35s - loss: 2.7952 - acc: 0.25 - ETA: 32s - loss: 2.7933 - acc: 0.25 - ETA: 30s - loss: 2.7937 - acc: 0.25 - ETA: 27s - loss: 2.7979 - acc: 0.25 - ETA: 24s - loss: 2.7974 - acc: 0.25 - ETA: 21s - loss: 2.7973 - acc: 0.25 - ETA: 18s - loss: 2.7930 - acc: 0.25 - ETA: 15s - loss: 2.7939 - acc: 0.24 - ETA: 12s - loss: 2.7897 - acc: 0.25 - ETA: 9s - loss: 2.7912 - acc: 0.2490 - ETA: 6s - loss: 2.7907 - acc: 0.250 - ETA: 3s - loss: 2.7885 - acc: 0.2490Epoch 00009: val_loss improved from 3.10371 to 2.98415, saving model to saved_models/weights.best.benchmark_Model.hdf5\n",
      "1040/1040 [==============================] - 179s 173ms/step - loss: 2.7872 - acc: 0.2510 - val_loss: 2.9841 - val_acc: 0.1269\n",
      "Epoch 10/10\n"
     ]
    },
    {
     "name": "stdout",
     "output_type": "stream",
     "text": [
      "1020/1040 [============================>.] - ETA: 2:19 - loss: 2.6967 - acc: 0.350 - ETA: 2:11 - loss: 2.7224 - acc: 0.250 - ETA: 2:17 - loss: 2.7956 - acc: 0.216 - ETA: 2:18 - loss: 2.7916 - acc: 0.200 - ETA: 2:11 - loss: 2.7964 - acc: 0.220 - ETA: 2:11 - loss: 2.7911 - acc: 0.225 - ETA: 2:10 - loss: 2.7659 - acc: 0.257 - ETA: 2:06 - loss: 2.7672 - acc: 0.237 - ETA: 2:08 - loss: 2.7670 - acc: 0.227 - ETA: 2:03 - loss: 2.7503 - acc: 0.245 - ETA: 2:04 - loss: 2.7441 - acc: 0.250 - ETA: 2:01 - loss: 2.7517 - acc: 0.250 - ETA: 1:58 - loss: 2.7369 - acc: 0.253 - ETA: 1:54 - loss: 2.7374 - acc: 0.257 - ETA: 1:51 - loss: 2.7235 - acc: 0.270 - ETA: 1:48 - loss: 2.7287 - acc: 0.268 - ETA: 1:44 - loss: 2.7295 - acc: 0.270 - ETA: 1:41 - loss: 2.7324 - acc: 0.275 - ETA: 1:39 - loss: 2.7239 - acc: 0.281 - ETA: 1:35 - loss: 2.7229 - acc: 0.285 - ETA: 1:32 - loss: 2.7265 - acc: 0.288 - ETA: 1:30 - loss: 2.7294 - acc: 0.290 - ETA: 1:27 - loss: 2.7355 - acc: 0.289 - ETA: 1:24 - loss: 2.7320 - acc: 0.289 - ETA: 1:21 - loss: 2.7327 - acc: 0.286 - ETA: 1:18 - loss: 2.7325 - acc: 0.286 - ETA: 1:15 - loss: 2.7352 - acc: 0.283 - ETA: 1:11 - loss: 2.7337 - acc: 0.282 - ETA: 1:08 - loss: 2.7359 - acc: 0.281 - ETA: 1:06 - loss: 2.7437 - acc: 0.278 - ETA: 1:02 - loss: 2.7465 - acc: 0.274 - ETA: 59s - loss: 2.7430 - acc: 0.278 - ETA: 57s - loss: 2.7413 - acc: 0.28 - ETA: 53s - loss: 2.7396 - acc: 0.28 - ETA: 50s - loss: 2.7324 - acc: 0.28 - ETA: 47s - loss: 2.7300 - acc: 0.29 - ETA: 44s - loss: 2.7274 - acc: 0.29 - ETA: 41s - loss: 2.7274 - acc: 0.29 - ETA: 38s - loss: 2.7260 - acc: 0.29 - ETA: 35s - loss: 2.7276 - acc: 0.29 - ETA: 32s - loss: 2.7295 - acc: 0.28 - ETA: 29s - loss: 2.7303 - acc: 0.28 - ETA: 26s - loss: 2.7336 - acc: 0.28 - ETA: 23s - loss: 2.7334 - acc: 0.28 - ETA: 20s - loss: 2.7361 - acc: 0.28 - ETA: 17s - loss: 2.7376 - acc: 0.28 - ETA: 14s - loss: 2.7426 - acc: 0.27 - ETA: 11s - loss: 2.7450 - acc: 0.27 - ETA: 8s - loss: 2.7445 - acc: 0.2755 - ETA: 5s - loss: 2.7497 - acc: 0.273 - ETA: 2s - loss: 2.7467 - acc: 0.2725Epoch 00010: val_loss improved from 2.98415 to 2.87577, saving model to saved_models/weights.best.benchmark_Model.hdf5\n",
      "1040/1040 [==============================] - 177s 170ms/step - loss: 2.7468 - acc: 0.2712 - val_loss: 2.8758 - val_acc: 0.1923\n"
     ]
    }
   ],
   "source": [
    "from keras.callbacks import ModelCheckpoint  \n",
    "\n",
    "\n",
    "epochs = 10\n",
    "\n",
    "\n",
    "checkpointer0 = ModelCheckpoint(filepath='saved_models/weights.best.benchmark_Model.hdf5', \n",
    "                               verbose=1, save_best_only=True)\n",
    "\n",
    "history0= model0.fit(train_tensors, train_targets, \n",
    "          validation_data=(valid_tensors, valid_targets),\n",
    "          epochs=epochs, batch_size=20, callbacks=[checkpointer0], verbose=1)"
   ]
  },
  {
   "cell_type": "markdown",
   "metadata": {},
   "source": [
    "### Test the Model and Evaluate Accuracy"
   ]
  },
  {
   "cell_type": "code",
   "execution_count": 7,
   "metadata": {},
   "outputs": [
    {
     "name": "stdout",
     "output_type": "stream",
     "text": [
      "Test accuracy: 19.2308%\n"
     ]
    }
   ],
   "source": [
    "# get index of predicted dog Iris for each image in test set\n",
    "iris_predictions = [np.argmax(model0.predict(np.expand_dims(tensor, axis=0))) for tensor in test_tensors]\n",
    "\n",
    "# report test accuracy\n",
    "test_accuracy = 100*np.sum(np.array(iris_predictions)==np.argmax(test_targets, axis=1))/len(iris_predictions)\n",
    "print('Test accuracy: %.4f%%' % test_accuracy)"
   ]
  },
  {
   "cell_type": "markdown",
   "metadata": {},
   "source": [
    "## Step 4: Our Proposed Model\n",
    "\n",
    "Our proposed model consists of 5 CNV layers followed by 5 max pooling layers. Finally a global average pooling is used. Table 1 shows the model summary for each layer and its output shape. Images are imput in 224 × 224. Layers have number filters of 16, 32, 64, 128, 256 for layers 1, 2, 3, 4, 5 respectively. Finally a dense layer with size of 26 is used for classification decision."
   ]
  },
  {
   "cell_type": "code",
   "execution_count": 8,
   "metadata": {},
   "outputs": [
    {
     "name": "stdout",
     "output_type": "stream",
     "text": [
      "_________________________________________________________________\n",
      "Layer (type)                 Output Shape              Param #   \n",
      "=================================================================\n",
      "batch_normalization_3 (Batch (None, 224, 224, 3)       12        \n",
      "_________________________________________________________________\n",
      "conv2d_2 (Conv2D)            (None, 222, 222, 16)      448       \n",
      "_________________________________________________________________\n",
      "max_pooling2d_2 (MaxPooling2 (None, 111, 111, 16)      0         \n",
      "_________________________________________________________________\n",
      "batch_normalization_4 (Batch (None, 111, 111, 16)      64        \n",
      "_________________________________________________________________\n",
      "conv2d_3 (Conv2D)            (None, 109, 109, 32)      4640      \n",
      "_________________________________________________________________\n",
      "max_pooling2d_3 (MaxPooling2 (None, 54, 54, 32)        0         \n",
      "_________________________________________________________________\n",
      "batch_normalization_5 (Batch (None, 54, 54, 32)        128       \n",
      "_________________________________________________________________\n",
      "conv2d_4 (Conv2D)            (None, 52, 52, 64)        18496     \n",
      "_________________________________________________________________\n",
      "max_pooling2d_4 (MaxPooling2 (None, 26, 26, 64)        0         \n",
      "_________________________________________________________________\n",
      "batch_normalization_6 (Batch (None, 26, 26, 64)        256       \n",
      "_________________________________________________________________\n",
      "conv2d_5 (Conv2D)            (None, 24, 24, 128)       73856     \n",
      "_________________________________________________________________\n",
      "max_pooling2d_5 (MaxPooling2 (None, 12, 12, 128)       0         \n",
      "_________________________________________________________________\n",
      "batch_normalization_7 (Batch (None, 12, 12, 128)       512       \n",
      "_________________________________________________________________\n",
      "conv2d_6 (Conv2D)            (None, 10, 10, 256)       295168    \n",
      "_________________________________________________________________\n",
      "max_pooling2d_6 (MaxPooling2 (None, 5, 5, 256)         0         \n",
      "_________________________________________________________________\n",
      "batch_normalization_8 (Batch (None, 5, 5, 256)         1024      \n",
      "_________________________________________________________________\n",
      "global_average_pooling2d_2 ( (None, 256)               0         \n",
      "_________________________________________________________________\n",
      "dense_2 (Dense)              (None, 26)                6682      \n",
      "=================================================================\n",
      "Total params: 401,286\n",
      "Trainable params: 400,288\n",
      "Non-trainable params: 998\n",
      "_________________________________________________________________\n"
     ]
    }
   ],
   "source": [
    "from keras.layers import Conv2D, MaxPooling2D, GlobalAveragePooling2D\n",
    "from keras.layers import Dropout, Flatten, Dense, Activation\n",
    "from keras.models import Sequential\n",
    "from keras.layers.normalization import BatchNormalization\n",
    "\n",
    "\n",
    "model = Sequential()\n",
    "model.add(BatchNormalization(input_shape=(224, 224, 3)))\n",
    "model.add(Conv2D(filters=16, kernel_size=3, kernel_initializer='he_normal', activation='relu'))\n",
    "model.add(MaxPooling2D(pool_size=2))\n",
    "model.add(BatchNormalization())\n",
    "\n",
    "model.add(Conv2D(filters=32, kernel_size=3, kernel_initializer='he_normal', activation='relu'))\n",
    "model.add(MaxPooling2D(pool_size=2))\n",
    "model.add(BatchNormalization())\n",
    "\n",
    "model.add(Conv2D(filters=64, kernel_size=3, kernel_initializer='he_normal', activation='relu'))\n",
    "model.add(MaxPooling2D(pool_size=2))\n",
    "model.add(BatchNormalization())\n",
    "\n",
    "model.add(Conv2D(filters=128, kernel_size=3, kernel_initializer='he_normal', activation='relu'))\n",
    "model.add(MaxPooling2D(pool_size=2))\n",
    "model.add(BatchNormalization())\n",
    "\n",
    "model.add(Conv2D(filters=256, kernel_size=3, kernel_initializer='he_normal', activation='relu'))\n",
    "model.add(MaxPooling2D(pool_size=2))\n",
    "model.add(BatchNormalization())\n",
    "\n",
    "model.add(GlobalAveragePooling2D())\n",
    "\n",
    "model.add(Dense(26, activation='softmax'))\n",
    "\n",
    "model.summary()\n"
   ]
  },
  {
   "cell_type": "markdown",
   "metadata": {},
   "source": [
    "### Compile the Model"
   ]
  },
  {
   "cell_type": "code",
   "execution_count": 9,
   "metadata": {},
   "outputs": [],
   "source": [
    "model.compile(optimizer='rmsprop', loss='categorical_crossentropy', metrics=['accuracy'])"
   ]
  },
  {
   "cell_type": "markdown",
   "metadata": {},
   "source": [
    "### Train the Model"
   ]
  },
  {
   "cell_type": "code",
   "execution_count": 10,
   "metadata": {},
   "outputs": [
    {
     "name": "stdout",
     "output_type": "stream",
     "text": [
      "Train on 1040 samples, validate on 260 samples\n",
      "Epoch 1/10\n",
      "1020/1040 [============================>.] - ETA: 5:27 - loss: 3.2427 - acc: 0.0000e+0 - ETA: 3:48 - loss: 3.1304 - acc: 0.0750    - ETA: 3:36 - loss: 2.9482 - acc: 0.183 - ETA: 3:12 - loss: 2.7952 - acc: 0.250 - ETA: 3:09 - loss: 2.8278 - acc: 0.230 - ETA: 2:57 - loss: 2.7513 - acc: 0.258 - ETA: 2:57 - loss: 2.7205 - acc: 0.285 - ETA: 2:57 - loss: 2.6759 - acc: 0.293 - ETA: 2:47 - loss: 2.6288 - acc: 0.322 - ETA: 2:44 - loss: 2.5649 - acc: 0.340 - ETA: 2:36 - loss: 2.5234 - acc: 0.354 - ETA: 2:33 - loss: 2.4775 - acc: 0.370 - ETA: 2:30 - loss: 2.4257 - acc: 0.384 - ETA: 2:23 - loss: 2.3934 - acc: 0.400 - ETA: 2:21 - loss: 2.3453 - acc: 0.420 - ETA: 2:16 - loss: 2.2853 - acc: 0.453 - ETA: 2:12 - loss: 2.2471 - acc: 0.464 - ETA: 2:09 - loss: 2.2131 - acc: 0.472 - ETA: 2:05 - loss: 2.1942 - acc: 0.473 - ETA: 2:00 - loss: 2.1636 - acc: 0.485 - ETA: 1:57 - loss: 2.1298 - acc: 0.497 - ETA: 1:52 - loss: 2.0908 - acc: 0.511 - ETA: 1:49 - loss: 2.0592 - acc: 0.523 - ETA: 1:44 - loss: 2.0321 - acc: 0.535 - ETA: 1:40 - loss: 2.0055 - acc: 0.546 - ETA: 1:36 - loss: 1.9665 - acc: 0.557 - ETA: 1:32 - loss: 1.9458 - acc: 0.568 - ETA: 1:29 - loss: 1.9262 - acc: 0.573 - ETA: 1:25 - loss: 1.8971 - acc: 0.579 - ETA: 1:21 - loss: 1.8737 - acc: 0.588 - ETA: 1:17 - loss: 1.8461 - acc: 0.596 - ETA: 1:14 - loss: 1.8224 - acc: 0.604 - ETA: 1:10 - loss: 1.7956 - acc: 0.612 - ETA: 1:06 - loss: 1.7638 - acc: 0.622 - ETA: 1:02 - loss: 1.7372 - acc: 0.630 - ETA: 58s - loss: 1.7136 - acc: 0.637 - ETA: 55s - loss: 1.6911 - acc: 0.64 - ETA: 51s - loss: 1.6658 - acc: 0.65 - ETA: 47s - loss: 1.6419 - acc: 0.65 - ETA: 43s - loss: 1.6203 - acc: 0.66 - ETA: 40s - loss: 1.6036 - acc: 0.67 - ETA: 36s - loss: 1.5845 - acc: 0.67 - ETA: 32s - loss: 1.5648 - acc: 0.68 - ETA: 29s - loss: 1.5472 - acc: 0.68 - ETA: 25s - loss: 1.5289 - acc: 0.69 - ETA: 22s - loss: 1.5127 - acc: 0.69 - ETA: 18s - loss: 1.4958 - acc: 0.70 - ETA: 14s - loss: 1.4780 - acc: 0.70 - ETA: 11s - loss: 1.4612 - acc: 0.70 - ETA: 7s - loss: 1.4422 - acc: 0.7120 - ETA: 3s - loss: 1.4229 - acc: 0.7167Epoch 00001: val_loss improved from inf to 3.89507, saving model to saved_models/weights.best.iris_Model.hdf5\n",
      "1040/1040 [==============================] - 224s 216ms/step - loss: 1.4071 - acc: 0.7202 - val_loss: 3.8951 - val_acc: 0.0423\n",
      "Epoch 2/10\n",
      "1020/1040 [============================>.] - ETA: 2:33 - loss: 0.2754 - acc: 1.000 - ETA: 3:04 - loss: 0.3651 - acc: 0.975 - ETA: 3:12 - loss: 0.4961 - acc: 0.900 - ETA: 2:58 - loss: 0.5085 - acc: 0.912 - ETA: 2:59 - loss: 0.4923 - acc: 0.930 - ETA: 3:01 - loss: 0.4940 - acc: 0.933 - ETA: 3:00 - loss: 0.4855 - acc: 0.942 - ETA: 2:50 - loss: 0.4632 - acc: 0.950 - ETA: 2:49 - loss: 0.4623 - acc: 0.950 - ETA: 2:47 - loss: 0.4545 - acc: 0.955 - ETA: 2:43 - loss: 0.4780 - acc: 0.954 - ETA: 2:37 - loss: 0.4735 - acc: 0.954 - ETA: 2:34 - loss: 0.4587 - acc: 0.957 - ETA: 2:31 - loss: 0.4453 - acc: 0.960 - ETA: 2:26 - loss: 0.4391 - acc: 0.963 - ETA: 2:23 - loss: 0.4299 - acc: 0.962 - ETA: 2:20 - loss: 0.4213 - acc: 0.964 - ETA: 2:14 - loss: 0.4159 - acc: 0.963 - ETA: 2:11 - loss: 0.4133 - acc: 0.963 - ETA: 2:08 - loss: 0.4117 - acc: 0.965 - ETA: 2:04 - loss: 0.4071 - acc: 0.966 - ETA: 1:59 - loss: 0.3979 - acc: 0.968 - ETA: 1:56 - loss: 0.3923 - acc: 0.969 - ETA: 1:52 - loss: 0.3866 - acc: 0.970 - ETA: 1:49 - loss: 0.3838 - acc: 0.970 - ETA: 1:44 - loss: 0.3775 - acc: 0.971 - ETA: 1:40 - loss: 0.3753 - acc: 0.972 - ETA: 1:37 - loss: 0.3702 - acc: 0.973 - ETA: 1:32 - loss: 0.3643 - acc: 0.974 - ETA: 1:28 - loss: 0.3621 - acc: 0.973 - ETA: 1:24 - loss: 0.3605 - acc: 0.974 - ETA: 1:20 - loss: 0.3628 - acc: 0.971 - ETA: 1:16 - loss: 0.3570 - acc: 0.972 - ETA: 1:12 - loss: 0.3544 - acc: 0.972 - ETA: 1:08 - loss: 0.3487 - acc: 0.972 - ETA: 1:04 - loss: 0.3457 - acc: 0.973 - ETA: 1:00 - loss: 0.3408 - acc: 0.974 - ETA: 56s - loss: 0.3372 - acc: 0.975 - ETA: 52s - loss: 0.3326 - acc: 0.97 - ETA: 48s - loss: 0.3289 - acc: 0.97 - ETA: 44s - loss: 0.3277 - acc: 0.97 - ETA: 40s - loss: 0.3295 - acc: 0.97 - ETA: 36s - loss: 0.3285 - acc: 0.97 - ETA: 32s - loss: 0.3277 - acc: 0.97 - ETA: 28s - loss: 0.3259 - acc: 0.97 - ETA: 24s - loss: 0.3228 - acc: 0.97 - ETA: 20s - loss: 0.3211 - acc: 0.97 - ETA: 16s - loss: 0.3217 - acc: 0.97 - ETA: 12s - loss: 0.3195 - acc: 0.97 - ETA: 8s - loss: 0.3166 - acc: 0.9720 - ETA: 4s - loss: 0.3122 - acc: 0.9725Epoch 00002: val_loss did not improve\n",
      "1040/1040 [==============================] - 235s 226ms/step - loss: 0.3088 - acc: 0.9731 - val_loss: 6.4461 - val_acc: 0.0385\n",
      "Epoch 3/10\n",
      "1020/1040 [============================>.] - ETA: 3:59 - loss: 0.1211 - acc: 1.000 - ETA: 3:47 - loss: 0.0842 - acc: 1.000 - ETA: 3:24 - loss: 0.1106 - acc: 0.983 - ETA: 3:22 - loss: 0.1025 - acc: 0.987 - ETA: 3:23 - loss: 0.0943 - acc: 0.990 - ETA: 3:14 - loss: 0.0913 - acc: 0.991 - ETA: 3:05 - loss: 0.0932 - acc: 0.992 - ETA: 3:02 - loss: 0.0923 - acc: 0.993 - ETA: 2:53 - loss: 0.0950 - acc: 0.994 - ETA: 2:51 - loss: 0.1000 - acc: 0.995 - ETA: 2:49 - loss: 0.1137 - acc: 0.990 - ETA: 2:47 - loss: 0.1119 - acc: 0.991 - ETA: 2:40 - loss: 0.1103 - acc: 0.992 - ETA: 2:36 - loss: 0.1136 - acc: 0.992 - ETA: 2:33 - loss: 0.1178 - acc: 0.990 - ETA: 2:29 - loss: 0.1253 - acc: 0.990 - ETA: 2:24 - loss: 0.1287 - acc: 0.988 - ETA: 2:20 - loss: 0.1289 - acc: 0.988 - ETA: 2:14 - loss: 0.1279 - acc: 0.989 - ETA: 2:10 - loss: 0.1256 - acc: 0.990 - ETA: 2:07 - loss: 0.1259 - acc: 0.988 - ETA: 2:01 - loss: 0.1262 - acc: 0.988 - ETA: 1:57 - loss: 0.1235 - acc: 0.989 - ETA: 1:54 - loss: 0.1211 - acc: 0.989 - ETA: 1:49 - loss: 0.1175 - acc: 0.990 - ETA: 1:45 - loss: 0.1213 - acc: 0.988 - ETA: 1:41 - loss: 0.1212 - acc: 0.988 - ETA: 1:36 - loss: 0.1194 - acc: 0.989 - ETA: 1:32 - loss: 0.1170 - acc: 0.989 - ETA: 1:28 - loss: 0.1188 - acc: 0.990 - ETA: 1:24 - loss: 0.1212 - acc: 0.990 - ETA: 1:20 - loss: 0.1230 - acc: 0.989 - ETA: 1:16 - loss: 0.1244 - acc: 0.987 - ETA: 1:12 - loss: 0.1273 - acc: 0.986 - ETA: 1:08 - loss: 0.1306 - acc: 0.985 - ETA: 1:04 - loss: 0.1353 - acc: 0.984 - ETA: 59s - loss: 0.1371 - acc: 0.982 - ETA: 55s - loss: 0.1385 - acc: 0.98 - ETA: 51s - loss: 0.1374 - acc: 0.98 - ETA: 47s - loss: 0.1385 - acc: 0.98 - ETA: 43s - loss: 0.1384 - acc: 0.98 - ETA: 39s - loss: 0.1370 - acc: 0.98 - ETA: 35s - loss: 0.1351 - acc: 0.98 - ETA: 31s - loss: 0.1328 - acc: 0.98 - ETA: 27s - loss: 0.1329 - acc: 0.98 - ETA: 23s - loss: 0.1315 - acc: 0.98 - ETA: 19s - loss: 0.1294 - acc: 0.98 - ETA: 15s - loss: 0.1290 - acc: 0.98 - ETA: 11s - loss: 0.1296 - acc: 0.98 - ETA: 7s - loss: 0.1294 - acc: 0.9840 - ETA: 3s - loss: 0.1284 - acc: 0.9843Epoch 00003: val_loss did not improve\n",
      "1040/1040 [==============================] - 233s 224ms/step - loss: 0.1272 - acc: 0.9846 - val_loss: 10.2225 - val_acc: 0.0769\n",
      "Epoch 4/10\n"
     ]
    },
    {
     "name": "stdout",
     "output_type": "stream",
     "text": [
      "1020/1040 [============================>.] - ETA: 3:07 - loss: 0.0511 - acc: 1.000 - ETA: 3:26 - loss: 0.0495 - acc: 1.000 - ETA: 3:16 - loss: 0.0409 - acc: 1.000 - ETA: 3:08 - loss: 0.0366 - acc: 1.000 - ETA: 3:10 - loss: 0.0388 - acc: 1.000 - ETA: 3:02 - loss: 0.0382 - acc: 1.000 - ETA: 2:58 - loss: 0.0358 - acc: 1.000 - ETA: 2:57 - loss: 0.0333 - acc: 1.000 - ETA: 2:50 - loss: 0.0320 - acc: 1.000 - ETA: 2:47 - loss: 0.0308 - acc: 1.000 - ETA: 2:45 - loss: 0.0321 - acc: 1.000 - ETA: 2:42 - loss: 0.0328 - acc: 1.000 - ETA: 2:37 - loss: 0.0338 - acc: 1.000 - ETA: 2:33 - loss: 0.0344 - acc: 1.000 - ETA: 2:30 - loss: 0.0365 - acc: 1.000 - ETA: 2:25 - loss: 0.0371 - acc: 1.000 - ETA: 2:21 - loss: 0.0384 - acc: 1.000 - ETA: 2:18 - loss: 0.0397 - acc: 1.000 - ETA: 2:13 - loss: 0.0401 - acc: 1.000 - ETA: 2:09 - loss: 0.0410 - acc: 1.000 - ETA: 2:06 - loss: 0.0455 - acc: 0.997 - ETA: 2:02 - loss: 0.0533 - acc: 0.995 - ETA: 1:58 - loss: 0.0531 - acc: 0.995 - ETA: 1:53 - loss: 0.0531 - acc: 0.995 - ETA: 1:50 - loss: 0.0525 - acc: 0.996 - ETA: 1:45 - loss: 0.0522 - acc: 0.996 - ETA: 1:41 - loss: 0.0547 - acc: 0.994 - ETA: 1:37 - loss: 0.0604 - acc: 0.992 - ETA: 1:33 - loss: 0.0611 - acc: 0.993 - ETA: 1:29 - loss: 0.0612 - acc: 0.993 - ETA: 1:25 - loss: 0.0611 - acc: 0.993 - ETA: 1:21 - loss: 0.0613 - acc: 0.993 - ETA: 1:16 - loss: 0.0601 - acc: 0.993 - ETA: 1:12 - loss: 0.0588 - acc: 0.994 - ETA: 1:08 - loss: 0.0581 - acc: 0.994 - ETA: 1:04 - loss: 0.0572 - acc: 0.994 - ETA: 1:00 - loss: 0.0570 - acc: 0.994 - ETA: 56s - loss: 0.0564 - acc: 0.994 - ETA: 52s - loss: 0.0555 - acc: 0.99 - ETA: 48s - loss: 0.0550 - acc: 0.99 - ETA: 44s - loss: 0.0541 - acc: 0.99 - ETA: 40s - loss: 0.0531 - acc: 0.99 - ETA: 36s - loss: 0.0524 - acc: 0.99 - ETA: 32s - loss: 0.0515 - acc: 0.99 - ETA: 28s - loss: 0.0506 - acc: 0.99 - ETA: 24s - loss: 0.0498 - acc: 0.99 - ETA: 20s - loss: 0.0494 - acc: 0.99 - ETA: 16s - loss: 0.0488 - acc: 0.99 - ETA: 12s - loss: 0.0480 - acc: 0.99 - ETA: 8s - loss: 0.0485 - acc: 0.9950 - ETA: 3s - loss: 0.0518 - acc: 0.9941Epoch 00004: val_loss did not improve\n",
      "1040/1040 [==============================] - 235s 226ms/step - loss: 0.0536 - acc: 0.9942 - val_loss: 8.1851 - val_acc: 0.0731\n",
      "Epoch 5/10\n",
      "1020/1040 [============================>.] - ETA: 3:45 - loss: 0.0608 - acc: 1.000 - ETA: 3:20 - loss: 0.0466 - acc: 1.000 - ETA: 3:15 - loss: 0.0369 - acc: 1.000 - ETA: 3:18 - loss: 0.0302 - acc: 1.000 - ETA: 3:08 - loss: 0.0296 - acc: 1.000 - ETA: 3:04 - loss: 0.0320 - acc: 1.000 - ETA: 3:03 - loss: 0.0293 - acc: 1.000 - ETA: 2:55 - loss: 0.0277 - acc: 1.000 - ETA: 2:52 - loss: 0.0272 - acc: 1.000 - ETA: 2:49 - loss: 0.0260 - acc: 1.000 - ETA: 2:41 - loss: 0.0244 - acc: 1.000 - ETA: 2:39 - loss: 0.0240 - acc: 1.000 - ETA: 2:37 - loss: 0.0242 - acc: 1.000 - ETA: 2:30 - loss: 0.0235 - acc: 1.000 - ETA: 2:27 - loss: 0.0225 - acc: 1.000 - ETA: 2:21 - loss: 0.0221 - acc: 1.000 - ETA: 2:18 - loss: 0.0212 - acc: 1.000 - ETA: 2:15 - loss: 0.0207 - acc: 1.000 - ETA: 2:09 - loss: 0.0205 - acc: 1.000 - ETA: 2:06 - loss: 0.0199 - acc: 1.000 - ETA: 2:03 - loss: 0.0192 - acc: 1.000 - ETA: 1:57 - loss: 0.0186 - acc: 1.000 - ETA: 1:54 - loss: 0.0181 - acc: 1.000 - ETA: 1:49 - loss: 0.0178 - acc: 1.000 - ETA: 1:45 - loss: 0.0186 - acc: 1.000 - ETA: 1:42 - loss: 0.0197 - acc: 1.000 - ETA: 1:37 - loss: 0.0225 - acc: 1.000 - ETA: 1:34 - loss: 0.0276 - acc: 0.998 - ETA: 1:30 - loss: 0.0296 - acc: 0.998 - ETA: 1:26 - loss: 0.0291 - acc: 0.998 - ETA: 1:22 - loss: 0.0289 - acc: 0.998 - ETA: 1:18 - loss: 0.0292 - acc: 0.998 - ETA: 1:14 - loss: 0.0289 - acc: 0.998 - ETA: 1:10 - loss: 0.0288 - acc: 0.998 - ETA: 1:06 - loss: 0.0284 - acc: 0.998 - ETA: 1:02 - loss: 0.0280 - acc: 0.998 - ETA: 58s - loss: 0.0284 - acc: 0.998 - ETA: 55s - loss: 0.0279 - acc: 0.99 - ETA: 51s - loss: 0.0275 - acc: 0.99 - ETA: 47s - loss: 0.0271 - acc: 0.99 - ETA: 43s - loss: 0.0268 - acc: 0.99 - ETA: 39s - loss: 0.0264 - acc: 0.99 - ETA: 35s - loss: 0.0262 - acc: 0.99 - ETA: 31s - loss: 0.0258 - acc: 0.99 - ETA: 27s - loss: 0.0256 - acc: 0.99 - ETA: 23s - loss: 0.0252 - acc: 0.99 - ETA: 19s - loss: 0.0249 - acc: 0.99 - ETA: 15s - loss: 0.0247 - acc: 0.99 - ETA: 11s - loss: 0.0243 - acc: 0.99 - ETA: 7s - loss: 0.0240 - acc: 0.9990 - ETA: 3s - loss: 0.0236 - acc: 0.9990Epoch 00005: val_loss did not improve\n",
      "1040/1040 [==============================] - 230s 221ms/step - loss: 0.0233 - acc: 0.9990 - val_loss: 10.2248 - val_acc: 0.0769\n",
      "Epoch 6/10\n",
      "1020/1040 [============================>.] - ETA: 3:49 - loss: 0.0083 - acc: 1.000 - ETA: 3:41 - loss: 0.0089 - acc: 1.000 - ETA: 3:12 - loss: 0.0091 - acc: 1.000 - ETA: 3:13 - loss: 0.0131 - acc: 1.000 - ETA: 3:04 - loss: 0.0171 - acc: 1.000 - ETA: 3:00 - loss: 0.0189 - acc: 1.000 - ETA: 2:59 - loss: 0.0245 - acc: 1.000 - ETA: 2:50 - loss: 0.0285 - acc: 1.000 - ETA: 2:49 - loss: 0.0292 - acc: 1.000 - ETA: 2:47 - loss: 0.0281 - acc: 1.000 - ETA: 2:45 - loss: 0.0260 - acc: 1.000 - ETA: 2:39 - loss: 0.0248 - acc: 1.000 - ETA: 2:35 - loss: 0.0250 - acc: 1.000 - ETA: 2:33 - loss: 0.0249 - acc: 1.000 - ETA: 2:26 - loss: 0.0237 - acc: 1.000 - ETA: 2:23 - loss: 0.0224 - acc: 1.000 - ETA: 2:20 - loss: 0.0213 - acc: 1.000 - ETA: 2:16 - loss: 0.0204 - acc: 1.000 - ETA: 2:11 - loss: 0.0196 - acc: 1.000 - ETA: 2:08 - loss: 0.0189 - acc: 1.000 - ETA: 2:03 - loss: 0.0182 - acc: 1.000 - ETA: 1:59 - loss: 0.0177 - acc: 1.000 - ETA: 1:56 - loss: 0.0173 - acc: 1.000 - ETA: 1:50 - loss: 0.0171 - acc: 1.000 - ETA: 1:47 - loss: 0.0167 - acc: 1.000 - ETA: 1:43 - loss: 0.0164 - acc: 1.000 - ETA: 1:38 - loss: 0.0160 - acc: 1.000 - ETA: 1:35 - loss: 0.0158 - acc: 1.000 - ETA: 1:30 - loss: 0.0155 - acc: 1.000 - ETA: 1:26 - loss: 0.0153 - acc: 1.000 - ETA: 1:23 - loss: 0.0152 - acc: 1.000 - ETA: 1:19 - loss: 0.0151 - acc: 1.000 - ETA: 1:14 - loss: 0.0151 - acc: 1.000 - ETA: 1:11 - loss: 0.0154 - acc: 1.000 - ETA: 1:07 - loss: 0.0221 - acc: 0.998 - ETA: 1:03 - loss: 0.0225 - acc: 0.998 - ETA: 59s - loss: 0.0233 - acc: 0.998 - ETA: 55s - loss: 0.0235 - acc: 0.99 - ETA: 51s - loss: 0.0237 - acc: 0.99 - ETA: 47s - loss: 0.0236 - acc: 0.99 - ETA: 43s - loss: 0.0232 - acc: 0.99 - ETA: 39s - loss: 0.0228 - acc: 0.99 - ETA: 35s - loss: 0.0227 - acc: 0.99 - ETA: 31s - loss: 0.0223 - acc: 0.99 - ETA: 27s - loss: 0.0219 - acc: 0.99 - ETA: 23s - loss: 0.0220 - acc: 0.99 - ETA: 19s - loss: 0.0217 - acc: 0.99 - ETA: 15s - loss: 0.0213 - acc: 0.99 - ETA: 11s - loss: 0.0212 - acc: 0.99 - ETA: 7s - loss: 0.0209 - acc: 0.9990 - ETA: 3s - loss: 0.0206 - acc: 0.9990Epoch 00006: val_loss did not improve\n",
      "1040/1040 [==============================] - 230s 221ms/step - loss: 0.0206 - acc: 0.9990 - val_loss: 9.6548 - val_acc: 0.0692\n",
      "Epoch 7/10\n"
     ]
    },
    {
     "name": "stdout",
     "output_type": "stream",
     "text": [
      "1020/1040 [============================>.] - ETA: 3:44 - loss: 0.3278 - acc: 0.850 - ETA: 3:20 - loss: 0.2083 - acc: 0.925 - ETA: 3:12 - loss: 0.1455 - acc: 0.950 - ETA: 3:12 - loss: 0.1315 - acc: 0.950 - ETA: 2:59 - loss: 0.1090 - acc: 0.960 - ETA: 3:00 - loss: 0.0938 - acc: 0.966 - ETA: 2:59 - loss: 0.0825 - acc: 0.971 - ETA: 2:49 - loss: 0.0732 - acc: 0.975 - ETA: 2:50 - loss: 0.0658 - acc: 0.977 - ETA: 2:47 - loss: 0.0599 - acc: 0.980 - ETA: 2:39 - loss: 0.0552 - acc: 0.981 - ETA: 2:37 - loss: 0.0514 - acc: 0.983 - ETA: 2:30 - loss: 0.0478 - acc: 0.984 - ETA: 2:28 - loss: 0.0448 - acc: 0.985 - ETA: 2:25 - loss: 0.0422 - acc: 0.986 - ETA: 2:19 - loss: 0.0397 - acc: 0.987 - ETA: 2:17 - loss: 0.0375 - acc: 0.988 - ETA: 2:14 - loss: 0.0358 - acc: 0.988 - ETA: 2:11 - loss: 0.0341 - acc: 0.989 - ETA: 2:05 - loss: 0.0325 - acc: 0.990 - ETA: 2:02 - loss: 0.0312 - acc: 0.990 - ETA: 1:59 - loss: 0.0299 - acc: 0.990 - ETA: 1:54 - loss: 0.0286 - acc: 0.991 - ETA: 1:50 - loss: 0.0275 - acc: 0.991 - ETA: 1:46 - loss: 0.0265 - acc: 0.992 - ETA: 1:42 - loss: 0.0255 - acc: 0.992 - ETA: 1:38 - loss: 0.0248 - acc: 0.992 - ETA: 1:33 - loss: 0.0239 - acc: 0.992 - ETA: 1:29 - loss: 0.0232 - acc: 0.993 - ETA: 1:25 - loss: 0.0225 - acc: 0.993 - ETA: 1:21 - loss: 0.0219 - acc: 0.993 - ETA: 1:17 - loss: 0.0213 - acc: 0.993 - ETA: 1:13 - loss: 0.0208 - acc: 0.993 - ETA: 1:09 - loss: 0.0205 - acc: 0.994 - ETA: 1:05 - loss: 0.0201 - acc: 0.994 - ETA: 1:01 - loss: 0.0197 - acc: 0.994 - ETA: 57s - loss: 0.0192 - acc: 0.994 - ETA: 53s - loss: 0.0187 - acc: 0.99 - ETA: 50s - loss: 0.0183 - acc: 0.99 - ETA: 46s - loss: 0.0179 - acc: 0.99 - ETA: 42s - loss: 0.0175 - acc: 0.99 - ETA: 38s - loss: 0.0171 - acc: 0.99 - ETA: 34s - loss: 0.0168 - acc: 0.99 - ETA: 30s - loss: 0.0164 - acc: 0.99 - ETA: 26s - loss: 0.0161 - acc: 0.99 - ETA: 23s - loss: 0.0158 - acc: 0.99 - ETA: 19s - loss: 0.0155 - acc: 0.99 - ETA: 15s - loss: 0.0152 - acc: 0.99 - ETA: 11s - loss: 0.0150 - acc: 0.99 - ETA: 7s - loss: 0.0147 - acc: 0.9960 - ETA: 3s - loss: 0.0146 - acc: 0.9961Epoch 00007: val_loss improved from 3.89507 to 1.97366, saving model to saved_models/weights.best.iris_Model.hdf5\n",
      "1040/1040 [==============================] - 225s 216ms/step - loss: 0.0145 - acc: 0.9962 - val_loss: 1.9737 - val_acc: 0.4654\n",
      "Epoch 8/10\n",
      "1020/1040 [============================>.] - ETA: 2:24 - loss: 0.0241 - acc: 1.000 - ETA: 2:47 - loss: 0.0151 - acc: 1.000 - ETA: 2:41 - loss: 0.0137 - acc: 1.000 - ETA: 2:48 - loss: 0.0113 - acc: 1.000 - ETA: 2:38 - loss: 0.0100 - acc: 1.000 - ETA: 2:41 - loss: 0.0098 - acc: 1.000 - ETA: 2:35 - loss: 0.0090 - acc: 1.000 - ETA: 2:35 - loss: 0.0272 - acc: 0.993 - ETA: 2:36 - loss: 0.0398 - acc: 0.988 - ETA: 2:29 - loss: 0.0375 - acc: 0.990 - ETA: 2:27 - loss: 0.0352 - acc: 0.990 - ETA: 2:21 - loss: 0.0330 - acc: 0.991 - ETA: 2:20 - loss: 0.0307 - acc: 0.992 - ETA: 2:17 - loss: 0.0292 - acc: 0.992 - ETA: 2:13 - loss: 0.0275 - acc: 0.993 - ETA: 2:10 - loss: 0.0276 - acc: 0.993 - ETA: 2:05 - loss: 0.0263 - acc: 0.994 - ETA: 2:03 - loss: 0.0276 - acc: 0.991 - ETA: 1:58 - loss: 0.0268 - acc: 0.992 - ETA: 1:55 - loss: 0.0257 - acc: 0.992 - ETA: 1:53 - loss: 0.0247 - acc: 0.992 - ETA: 1:48 - loss: 0.0238 - acc: 0.993 - ETA: 1:45 - loss: 0.0228 - acc: 0.993 - ETA: 1:42 - loss: 0.0222 - acc: 0.993 - ETA: 1:39 - loss: 0.0214 - acc: 0.994 - ETA: 1:36 - loss: 0.0207 - acc: 0.994 - ETA: 1:33 - loss: 0.0200 - acc: 0.994 - ETA: 1:29 - loss: 0.0194 - acc: 0.994 - ETA: 1:25 - loss: 0.0188 - acc: 0.994 - ETA: 1:22 - loss: 0.0182 - acc: 0.995 - ETA: 1:17 - loss: 0.0177 - acc: 0.995 - ETA: 1:14 - loss: 0.0173 - acc: 0.995 - ETA: 1:10 - loss: 0.0168 - acc: 0.995 - ETA: 1:06 - loss: 0.0164 - acc: 0.995 - ETA: 1:03 - loss: 0.0159 - acc: 0.995 - ETA: 59s - loss: 0.0155 - acc: 0.995 - ETA: 55s - loss: 0.0152 - acc: 0.99 - ETA: 51s - loss: 0.0149 - acc: 0.99 - ETA: 48s - loss: 0.0145 - acc: 0.99 - ETA: 44s - loss: 0.0142 - acc: 0.99 - ETA: 40s - loss: 0.0139 - acc: 0.99 - ETA: 37s - loss: 0.0136 - acc: 0.99 - ETA: 33s - loss: 0.0133 - acc: 0.99 - ETA: 29s - loss: 0.0131 - acc: 0.99 - ETA: 26s - loss: 0.0128 - acc: 0.99 - ETA: 22s - loss: 0.0125 - acc: 0.99 - ETA: 18s - loss: 0.0123 - acc: 0.99 - ETA: 15s - loss: 0.0120 - acc: 0.99 - ETA: 11s - loss: 0.0118 - acc: 0.99 - ETA: 7s - loss: 0.0116 - acc: 0.9970 - ETA: 3s - loss: 0.0114 - acc: 0.9971Epoch 00008: val_loss improved from 1.97366 to 0.14624, saving model to saved_models/weights.best.iris_Model.hdf5\n",
      "1040/1040 [==============================] - 222s 214ms/step - loss: 0.0112 - acc: 0.9971 - val_loss: 0.1462 - val_acc: 0.9692\n",
      "Epoch 9/10\n",
      "1020/1040 [============================>.] - ETA: 3:05 - loss: 0.0024 - acc: 1.000 - ETA: 3:21 - loss: 0.0052 - acc: 1.000 - ETA: 3:23 - loss: 0.0073 - acc: 1.000 - ETA: 3:05 - loss: 0.0083 - acc: 1.000 - ETA: 3:05 - loss: 0.0079 - acc: 1.000 - ETA: 2:57 - loss: 0.0491 - acc: 0.983 - ETA: 2:53 - loss: 0.0576 - acc: 0.985 - ETA: 2:52 - loss: 0.0549 - acc: 0.987 - ETA: 2:43 - loss: 0.0550 - acc: 0.983 - ETA: 2:42 - loss: 0.0535 - acc: 0.985 - ETA: 2:40 - loss: 0.0490 - acc: 0.986 - ETA: 2:34 - loss: 0.0460 - acc: 0.987 - ETA: 2:31 - loss: 0.0438 - acc: 0.988 - ETA: 2:26 - loss: 0.0411 - acc: 0.989 - ETA: 2:23 - loss: 0.0388 - acc: 0.990 - ETA: 2:20 - loss: 0.0367 - acc: 0.990 - ETA: 2:14 - loss: 0.0347 - acc: 0.991 - ETA: 2:11 - loss: 0.0329 - acc: 0.991 - ETA: 2:06 - loss: 0.0313 - acc: 0.992 - ETA: 2:02 - loss: 0.0301 - acc: 0.992 - ETA: 2:00 - loss: 0.0288 - acc: 0.992 - ETA: 1:56 - loss: 0.0277 - acc: 0.993 - ETA: 1:52 - loss: 0.0267 - acc: 0.993 - ETA: 1:48 - loss: 0.0257 - acc: 0.993 - ETA: 1:45 - loss: 0.0248 - acc: 0.994 - ETA: 1:40 - loss: 0.0239 - acc: 0.994 - ETA: 1:37 - loss: 0.0232 - acc: 0.994 - ETA: 1:33 - loss: 0.0225 - acc: 0.994 - ETA: 1:29 - loss: 0.0218 - acc: 0.994 - ETA: 1:25 - loss: 0.0214 - acc: 0.995 - ETA: 1:21 - loss: 0.0209 - acc: 0.995 - ETA: 1:17 - loss: 0.0203 - acc: 0.995 - ETA: 1:13 - loss: 0.0197 - acc: 0.995 - ETA: 1:09 - loss: 0.0191 - acc: 0.995 - ETA: 1:05 - loss: 0.0187 - acc: 0.995 - ETA: 1:02 - loss: 0.0182 - acc: 0.995 - ETA: 58s - loss: 0.0178 - acc: 0.995 - ETA: 54s - loss: 0.0174 - acc: 0.99 - ETA: 50s - loss: 0.0169 - acc: 0.99 - ETA: 46s - loss: 0.0165 - acc: 0.99 - ETA: 42s - loss: 0.0162 - acc: 0.99 - ETA: 38s - loss: 0.0158 - acc: 0.99 - ETA: 34s - loss: 0.0155 - acc: 0.99 - ETA: 31s - loss: 0.0151 - acc: 0.99 - ETA: 27s - loss: 0.0148 - acc: 0.99 - ETA: 23s - loss: 0.0145 - acc: 0.99 - ETA: 19s - loss: 0.0142 - acc: 0.99 - ETA: 15s - loss: 0.0140 - acc: 0.99 - ETA: 11s - loss: 0.0137 - acc: 0.99 - ETA: 7s - loss: 0.0134 - acc: 0.9970 - ETA: 3s - loss: 0.0132 - acc: 0.9971Epoch 00009: val_loss improved from 0.14624 to 0.00688, saving model to saved_models/weights.best.iris_Model.hdf5\n",
      "1040/1040 [==============================] - 230s 222ms/step - loss: 0.0130 - acc: 0.9971 - val_loss: 0.0069 - val_acc: 1.0000\n",
      "Epoch 10/10\n"
     ]
    },
    {
     "name": "stdout",
     "output_type": "stream",
     "text": [
      "1020/1040 [============================>.] - ETA: 2:55 - loss: 9.3380e-04 - acc: 1.000 - ETA: 3:10 - loss: 6.3148e-04 - acc: 1.000 - ETA: 2:49 - loss: 5.9809e-04 - acc: 1.000 - ETA: 2:56 - loss: 6.3205e-04 - acc: 1.000 - ETA: 2:44 - loss: 5.9439e-04 - acc: 1.000 - ETA: 2:54 - loss: 5.4327e-04 - acc: 1.000 - ETA: 2:47 - loss: 5.8802e-04 - acc: 1.000 - ETA: 2:45 - loss: 5.6505e-04 - acc: 1.000 - ETA: 2:45 - loss: 5.6265e-04 - acc: 1.000 - ETA: 2:37 - loss: 5.3774e-04 - acc: 1.000 - ETA: 2:37 - loss: 5.1713e-04 - acc: 1.000 - ETA: 2:36 - loss: 4.9026e-04 - acc: 1.000 - ETA: 2:31 - loss: 4.7028e-04 - acc: 1.000 - ETA: 2:27 - loss: 4.6610e-04 - acc: 1.000 - ETA: 2:25 - loss: 5.3958e-04 - acc: 1.000 - ETA: 2:23 - loss: 5.3464e-04 - acc: 1.000 - ETA: 2:19 - loss: 5.2434e-04 - acc: 1.000 - ETA: 2:14 - loss: 5.2056e-04 - acc: 1.000 - ETA: 2:12 - loss: 5.0806e-04 - acc: 1.000 - ETA: 2:08 - loss: 4.9155e-04 - acc: 1.000 - ETA: 2:03 - loss: 5.0623e-04 - acc: 1.000 - ETA: 1:59 - loss: 5.3997e-04 - acc: 1.000 - ETA: 1:56 - loss: 5.3034e-04 - acc: 1.000 - ETA: 1:52 - loss: 5.4661e-04 - acc: 1.000 - ETA: 1:47 - loss: 5.5566e-04 - acc: 1.000 - ETA: 1:44 - loss: 5.8814e-04 - acc: 1.000 - ETA: 1:39 - loss: 0.0033 - acc: 0.9981    - ETA: 1:35 - loss: 0.0037 - acc: 0.998 - ETA: 1:32 - loss: 0.0039 - acc: 0.998 - ETA: 1:27 - loss: 0.0038 - acc: 0.998 - ETA: 1:23 - loss: 0.0037 - acc: 0.998 - ETA: 1:20 - loss: 0.0036 - acc: 0.998 - ETA: 1:16 - loss: 0.0036 - acc: 0.998 - ETA: 1:12 - loss: 0.0036 - acc: 0.998 - ETA: 1:08 - loss: 0.0035 - acc: 0.998 - ETA: 1:03 - loss: 0.0034 - acc: 0.998 - ETA: 1:00 - loss: 0.0034 - acc: 0.998 - ETA: 56s - loss: 0.0033 - acc: 0.998 - ETA: 52s - loss: 0.0033 - acc: 0.99 - ETA: 48s - loss: 0.0032 - acc: 0.99 - ETA: 44s - loss: 0.0031 - acc: 0.99 - ETA: 40s - loss: 0.0031 - acc: 0.99 - ETA: 36s - loss: 0.0031 - acc: 0.99 - ETA: 32s - loss: 0.0030 - acc: 0.99 - ETA: 28s - loss: 0.0030 - acc: 0.99 - ETA: 24s - loss: 0.0029 - acc: 0.99 - ETA: 20s - loss: 0.0029 - acc: 0.99 - ETA: 16s - loss: 0.0028 - acc: 0.99 - ETA: 12s - loss: 0.0028 - acc: 0.99 - ETA: 8s - loss: 0.0028 - acc: 0.9990 - ETA: 4s - loss: 0.0027 - acc: 0.9990Epoch 00010: val_loss improved from 0.00688 to 0.00216, saving model to saved_models/weights.best.iris_Model.hdf5\n",
      "1040/1040 [==============================] - 236s 227ms/step - loss: 0.0027 - acc: 0.9990 - val_loss: 0.0022 - val_acc: 1.0000\n"
     ]
    }
   ],
   "source": [
    "from keras.callbacks import ModelCheckpoint  \n",
    "\n",
    "\n",
    "epochs = 10\n",
    "\n",
    "\n",
    "checkpointer = ModelCheckpoint(filepath='saved_models/weights.best.iris_Model.hdf5', \n",
    "                               verbose=1, save_best_only=True)\n",
    "\n",
    "history= model.fit(train_tensors, train_targets, \n",
    "          validation_data=(valid_tensors, valid_targets),\n",
    "          epochs=epochs, batch_size=20, callbacks=[checkpointer], verbose=1)"
   ]
  },
  {
   "cell_type": "markdown",
   "metadata": {},
   "source": [
    "### Plot Accuracy and Loss Curves"
   ]
  },
  {
   "cell_type": "code",
   "execution_count": 16,
   "metadata": {},
   "outputs": [
    {
     "name": "stdout",
     "output_type": "stream",
     "text": [
      "dict_keys(['val_acc', 'loss', 'acc', 'val_loss'])\n"
     ]
    },
    {
     "data": {
      "image/png": "[encoded data removed]",
      "text/plain": [
       "<matplotlib.figure.Figure at 0x277ba53bd68>"
      ]
     },
     "metadata": {},
     "output_type": "display_data"
    },
    {
     "data": {
      "image/png": "[encoded data removed]",
      "text/plain": [
       "<matplotlib.figure.Figure at 0x277ba54e6a0>"
      ]
     },
     "metadata": {},
     "output_type": "display_data"
    }
   ],
   "source": [
    "import matplotlib.pyplot as plt\n",
    "\n",
    "fig = plt.figure()\n",
    "print(history.history.keys())\n",
    "# summarize history for accuracy\n",
    "plt.plot(history.history['acc'])\n",
    "plt.plot(history.history['val_acc'])\n",
    "plt.title('model accuracy')\n",
    "plt.ylabel('accuracy')\n",
    "plt.xlabel('epoch')\n",
    "plt.legend(['train', 'test'], loc='upper left')\n",
    "plt.show()\n",
    "fig.savefig('plot1.png')\n",
    "\n",
    "# summarize history for loss\n",
    "fig1 = plt.figure()\n",
    "plt.plot(history.history['loss'])\n",
    "plt.plot(history.history['val_loss'])\n",
    "plt.title('model loss')\n",
    "plt.ylabel('loss')\n",
    "plt.xlabel('epoch')\n",
    "plt.legend(['train', 'test'], loc='upper left')\n",
    "plt.show()\n",
    "fig1.savefig('plot2.png')"
   ]
  },
  {
   "cell_type": "markdown",
   "metadata": {},
   "source": [
    "### Test the Model"
   ]
  },
  {
   "cell_type": "code",
   "execution_count": 12,
   "metadata": {},
   "outputs": [
    {
     "name": "stdout",
     "output_type": "stream",
     "text": [
      "Test accuracy: 100.0000%\n"
     ]
    }
   ],
   "source": [
    "# get index of predicted dog Iris for each image in test set\n",
    "iris_predictions = [np.argmax(model.predict(np.expand_dims(tensor, axis=0))) for tensor in test_tensors]\n",
    "\n",
    "# report test accuracy\n",
    "test_accuracy = 100*np.sum(np.array(iris_predictions)==np.argmax(test_targets, axis=1))/len(iris_predictions)\n",
    "print('Test accuracy: %.4f%%' % test_accuracy)"
   ]
  },
  {
   "cell_type": "markdown",
   "metadata": {},
   "source": [
    "## Step 5: Blurring Task\n",
    "\n",
    "**In the following code cell we add a bluring effect to the testing data to show the strength of our proposed approach**\n",
    "\n",
    "The strength here is that the iris recognition is based on the area of iris that distinguish between persons. If this area is affected by blurring the area of irises my be overlapped. By the way, SVM could be used to classify images, but in this case the probability of error will be very high. Back to our project, In the this section we will evaluate the accuracy in the case of  blurring effect.\n",
    "\n",
    "**Note:** We used the following cell one time to construct the blurring dataset"
   ]
  },
  {
   "cell_type": "code",
   "execution_count": 13,
   "metadata": {},
   "outputs": [],
   "source": [
    "from PIL import Image\n",
    "import cv2\n",
    "\n",
    "\n",
    "#for i in range(len(test_files)):\n",
    "#    img=cv2.imread(test_files[i])\n",
    "#    img=cv2.blur(img,(7,7))\n",
    "#    img = Image.fromarray(img , 'RGB')\n",
    "#    filename = \"casia/test_blur/file_%i.png\"%i\n",
    "#    #cv2.imwrite(filename, img)\n",
    "#    img.save(filename)\n",
    "test_blur_files, test_blur_targets = load_dataset('casia/test_blur')\n",
    "\n",
    "                          "
   ]
  },
  {
   "cell_type": "code",
   "execution_count": 14,
   "metadata": {},
   "outputs": [
    {
     "name": "stderr",
     "output_type": "stream",
     "text": [
      "100%|████████████████████████████████████████████████████████████████████████████████| 260/260 [00:02<00:00, 93.25it/s]\n"
     ]
    }
   ],
   "source": [
    "\n",
    "\n",
    "test_blur_tensors = paths_to_tensor(test_blur_files).astype('float32')/255"
   ]
  },
  {
   "cell_type": "markdown",
   "metadata": {},
   "source": [
    "### Test the Model in with the blurring effect"
   ]
  },
  {
   "cell_type": "code",
   "execution_count": 15,
   "metadata": {},
   "outputs": [
    {
     "name": "stdout",
     "output_type": "stream",
     "text": [
      "Test accuracy: 100.0000%\n"
     ]
    }
   ],
   "source": [
    "# get index of predicted Iris for each blured image in test set\n",
    "iris_predictions2 = [np.argmax(model.predict(np.expand_dims(tensor, axis=0))) for tensor in test_blur_tensors]\n",
    "\n",
    "# report test accuracy\n",
    "test_accuracy = 100*np.sum(np.array(iris_predictions)==np.argmax(test_targets, axis=1))/len(iris_predictions2)\n",
    "print('Test accuracy: %.4f%%' % test_accuracy)"
   ]
  },
  {
   "cell_type": "markdown",
   "metadata": {},
   "source": [
    "## Conclusion\n",
    "\n",
    "**From results:**\n",
    " A\n",
    "* **Our approach is better than the benchmark model as our approach acheived 100 % accuracy and the benchmark about 19 %.\n",
    "\n",
    "* Another point of strength is effeciency under blurring as the proposed model still acheive 100 % accurracy that means it has noise immunity."
   ]
  }
 ],
 "metadata": {
  "kernelspec": {
   "display_name": "dog-project",
   "language": "python",
   "name": "dog-project"
  },
  "language_info": {
   "codemirror_mode": {
    "name": "ipython",
    "version": 3
   },
   "file_extension": ".py",
   "mimetype": "text/x-python",
   "name": "python",
   "nbconvert_exporter": "python",
   "pygments_lexer": "ipython3",
   "version": "3.5.4"
  }
 },
 "nbformat": 4,
 "nbformat_minor": 2
}
